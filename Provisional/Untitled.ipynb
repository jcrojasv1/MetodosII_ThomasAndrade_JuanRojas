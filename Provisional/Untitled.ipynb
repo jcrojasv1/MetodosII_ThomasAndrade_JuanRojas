{
 "cells": [
  {
   "cell_type": "markdown",
   "id": "d39a73de",
   "metadata": {},
   "source": [
    "**7. Numerical quantum mechanics**\n",
    "Considere el siguiente problema de valores y vectores propios:\n",
    "$$\\frac{\\text{d}^2y}{\\text{d}x^2} - R(x)y = S(x)$$, sujeto a condiciones de frontera $y(a) = y_a$ y $y(b) = y_b$, donde $R(x)$ es una función real y $S(x)$ es un término inhomogéneo. Discretizando el dominio y expandiendo $y(x\\pm h)$ hasta $\\mathcal{O}(h^6)$ se obtiene: $$y_{n+1} -2y_n + y_{n+1} = \\left( y''_n + \\frac{h^2}{12}y^{(4)}_n\\right)h^2 + \\mathcal{O}(h^6).$$\n",
    "Usando la ecuación diferencial original se obtiene el algoritmo de Numerov:\n",
    "$$\\left(1 - \\frac{h^2}{12}R_{n+1}\\right)y_{n+1} - 2\\left(1 + \\frac{5}{12}h^2R_{n}\\right)y_n + \\left(1 - \\frac{h^2}{12}R_{n-1}\\right)y_{n-1} = \\frac{h^2}{12}\\left( S_{n+1} + 10S_{n} + S_{n-1}\\right) + \\mathcal{O}(h^6).$$\n",
    "Esta relación recursiva requiere la condición de b.orde izquierdo $y(a) = y_a$ y un segundo valor $y(a+h) = y_a + 1\\times10^{-5}$."
   ]
  },
  {
   "cell_type": "markdown",
   "id": "99399140",
   "metadata": {},
   "source": [
    "> **Solución:**"
   ]
  },
  {
   "cell_type": "markdown",
   "id": "3bba2799",
   "metadata": {},
   "source": [
    "**a.** Demuestre el algoritmo de Numerov. \n",
    "\n",
    "La demostración del algoritmo se puede encontrar en este mismo repositorio bajo el nombre de \"Demostración Numerov.pdf\", se puede acceder a él por medio del enlace: [Demostración del algoritmo de Númerov](https://github.com/jcrojasv1/MetodosII_ThomasAndrade_JuanRojas/blob/main/Primer%20Taller/Demostraci%C3%B3n%20Numerov.pdf). \n",
    "\n",
    "---"
   ]
  },
  {
   "cell_type": "markdown",
   "id": "a1835c1b",
   "metadata": {},
   "source": [
    "**b.** La ecuación de Schrödinger para el oscilador armónico cuántico está dada por: $$-\\frac{\\hbar^2}{2m}\\frac{\\text{d}^2\\psi}{\\text{d}x^2} + V(x)\\psi = E\\psi.$$ Donde $V(x) = \\frac{1}{2}m\\omega^2x^2$. Encuentre $R_n$ y $S_n$ para esta ecuación. Para resolver numéricamente la ecuación se usa que $\\hbar,m,\\omega = 1$.\n",
    "\n",
    "Para esta ecuación (teniendo en cuenta que $\\hbar,m,\\omega = 1$) las funciones son $$R_n = x_n^2 - 2E$$ y $$S_n = 0.$$\n",
    "\n",
    "---"
   ]
  },
  {
   "cell_type": "markdown",
   "id": "d34a4d59",
   "metadata": {},
   "source": [
    "**c.** Defina una discretización para el dominio con $N = 1000$ puntos con $-5 \\leq x \\leq 5$."
   ]
  },
  {
   "cell_type": "code",
   "execution_count": null,
   "id": "fea6ca03",
   "metadata": {},
   "outputs": [],
   "source": [
    "N = 1000\n",
    "x = np.linspace(-5,5,N)\n",
    "h = x[1]-x[0]"
   ]
  },
  {
   "cell_type": "markdown",
   "id": "31ca6b44",
   "metadata": {},
   "source": [
    "**d.** Defina una función que calcule el potencial para cada punto $x_i$ de discretización."
   ]
  },
  {
   "cell_type": "code",
   "execution_count": null,
   "id": "0b9a7a75",
   "metadata": {},
   "outputs": [],
   "source": [
    "def V(x):\n",
    "    return 0.5*x**2"
   ]
  },
  {
   "cell_type": "markdown",
   "id": "6dfab858",
   "metadata": {},
   "source": [
    "**e.** Defina una función (método de Numerov) que tenga como parámetros la discretización y un valor de energía específico. Esta función integra la ecuación diferencial en el dominio de la energía específico. Use $\\psi_0 = 0$ y $\\psi_1 = 1\\times10^{-5}$."
   ]
  },
  {
   "cell_type": "code",
   "execution_count": null,
   "id": "76cd6edc",
   "metadata": {
    "scrolled": false
   },
   "outputs": [],
   "source": [
    "def R(x,E):\n",
    "    return 2*(V(x)-E)\n",
    "\n",
    "def Numerov(space,E):\n",
    "    psi = np.zeros_like(space)\n",
    "    psi[0] = 0\n",
    "    psi[1] = 1e-5\n",
    "    \n",
    "    for i in range(len(space)-1):\n",
    "        akp1 = 1-h**2/12 * R(space[i+1],E)\n",
    "        akm1 = 1-h**2/12 * R(space[i-1],E)\n",
    "        ak = 1+5*h**2/12 * R(space[i],E)\n",
    "        if i >= 2:\n",
    "            psi[i+1] = (2*ak*psi[i] - akm1*psi[i-1])/akp1\n",
    "    return psi\n",
    "\n",
    "\n",
    "def EigenEnergy(space,e,step):\n",
    "    dE = 0.1\n",
    "    listE = []\n",
    "    E = e\n",
    "    while len(listE) < 6:\n",
    "        psik = Numerov(space,E)[-1]\n",
    "        psik1 = Numerov(space,E+dE)[-1]\n",
    "        if psik1*psik < 0:\n",
    "            listE.append(E)\n",
    "        E = E+dE\n",
    "    return listE\n",
    "\n",
    "\n",
    "E_ = EigenEnergy(x,0,0.001)\n",
    "Psi = [0]*len(E_)\n",
    "\n",
    "for i in range(len(E_)):\n",
    "    Psi[i] = Numerov(x,E_[i])\n",
    "\n",
    "\n",
    "def Normalize(psi):\n",
    "    sqrd_psi = psi**2\n",
    "    a = 1/np.sqrt(sci.integrate.simps(sqrd_psi))\n",
    "    return a\n",
    "\n",
    "for k in range(len(Psi)):\n",
    "    Psi[k] = -Psi[k]/max(-Psi[k])\n",
    "l = np.linspace(-3.5,3.5)\n",
    "for i in range(len(E_)):\n",
    "    plt.plot(x,Psi[i],label=r\"$E_{%s} = %s$\"%(i,round(E_[i],3)))\n",
    "plt.legend()\n"
   ]
  },
  {
   "cell_type": "markdown",
   "id": "8956d87d",
   "metadata": {},
   "source": [
    "**i. Potencial gausiano:** con lo aprendido anteriormente, encuentre los primeros cinco estados ligados $(E_n <0)$ y los estados propios del operador de energía usando el potencial:\n",
    "$$V(x) = -10e^{-x^2/20} \\text{ con } -\\infty < x < \\infty.$$\n",
    "\n",
    "$$E_n = [-9.51,-8.54,-7.62,-6.74,5.89]$$"
   ]
  },
  {
   "cell_type": "code",
   "execution_count": null,
   "id": "542388d0",
   "metadata": {},
   "outputs": [],
   "source": [
    "x = np.linspace(-10,10,N)\n",
    "def V(x):\n",
    "    return -10*np.exp(-x**2/20)\n",
    "\n",
    "EigenEnergy(x,-20,0.001)\n"
   ]
  }
 ],
 "metadata": {
  "kernelspec": {
   "display_name": "Python 3 (ipykernel)",
   "language": "python",
   "name": "python3"
  },
  "language_info": {
   "codemirror_mode": {
    "name": "ipython",
    "version": 3
   },
   "file_extension": ".py",
   "mimetype": "text/x-python",
   "name": "python",
   "nbconvert_exporter": "python",
   "pygments_lexer": "ipython3",
   "version": "3.9.13"
  }
 },
 "nbformat": 4,
 "nbformat_minor": 5
}
