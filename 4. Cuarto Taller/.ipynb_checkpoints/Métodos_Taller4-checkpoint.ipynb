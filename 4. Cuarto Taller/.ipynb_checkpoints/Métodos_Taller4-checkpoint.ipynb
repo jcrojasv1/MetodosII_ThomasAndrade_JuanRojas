{
 "cells": [
  {
   "cell_type": "markdown",
   "id": "f018fc8a",
   "metadata": {},
   "source": [
    "> ## **Métodos Computacionales II - Taller #2**\n",
    "\n",
    "**Hecho por:** Thomas Andrade Hernández (202214695) & Juan Carlos Rojas V. (202214037)"
   ]
  }
 ],
 "metadata": {
  "kernelspec": {
   "display_name": "Python 3 (ipykernel)",
   "language": "python",
   "name": "python3"
  },
  "language_info": {
   "codemirror_mode": {
    "name": "ipython",
    "version": 3
   },
   "file_extension": ".py",
   "mimetype": "text/x-python",
   "name": "python",
   "nbconvert_exporter": "python",
   "pygments_lexer": "ipython3",
   "version": "3.11.5"
  }
 },
 "nbformat": 4,
 "nbformat_minor": 5
}
