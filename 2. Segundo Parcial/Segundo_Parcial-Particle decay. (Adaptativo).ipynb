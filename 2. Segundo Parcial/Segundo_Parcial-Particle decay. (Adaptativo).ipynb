{
 "cells": [
  {
   "cell_type": "code",
   "execution_count": 1,
   "id": "6b6bf964",
   "metadata": {},
   "outputs": [],
   "source": [
    "import numpy as np\n",
    "import matplotlib.pyplot as plt\n",
    "import scipy as sci"
   ]
  },
  {
   "cell_type": "code",
   "execution_count": 11,
   "id": "11e77fc6",
   "metadata": {},
   "outputs": [],
   "source": [
    "def Runge_Kutta4(f,y_0,t):\n",
    "    \"\"\"\n",
    "    f es la función de dy/dt = f(y,t)\n",
    "    y_0 es una initial guess\n",
    "    t es el linspace de tiempo (o variable independiente, como querás)\n",
    "    \"\"\"\n",
    "    \n",
    "    h = t[1] - t[0]\n",
    "    y = np.zeros_like(t)\n",
    "    y[0] = y_0\n",
    "    \n",
    "    for i in range(1,len(t)):\n",
    "        k1 = h*f(y[i-1],t[i-1])\n",
    "        k2 = h*f(t[i-1]+h/2,y[i-1] +k1/2)\n",
    "        k3 = h* f(t[i-1]+h/2, y[i-1] + k2/2)\n",
    "        k4 = h* f(t[i-1]+h,y +k3)\n",
    "        \n",
    "        y[i] = y[i-1] + (k1+2*k2+2*k3+k4)/6\n",
    "    \n",
    "    return y"
   ]
  },
  {
   "cell_type": "code",
   "execution_count": 12,
   "id": "5dce49e1",
   "metadata": {},
   "outputs": [],
   "source": [
    "def Adams_Bashforth_Moulton(f,x,y_sol_proposed):\n",
    "    \"\"\"\n",
    "    Básicamente, lo que hace esta maricada es que coges la función de tu ecuación deferencial dy/dx = f(x,y) y, \n",
    "    luego de haberla resuelto con método de Runge-Kutta, se lo metes a esta función por medio de y_sol_proposed y\n",
    "    esta madre te lo corrige para que quede Gucci.\n",
    "    \"\"\"\n",
    "    \n",
    "    h = x[1] - x[0]\n",
    "    \n",
    "    y = y_sol_proposed.copy() #Una copia de la solución (de cagada) que te dejó RK\n",
    "    yc = y.copy() #Otra copia (la que vamos a modificar ;D)/corregir.\n",
    "    \n",
    "    for i in range(2,len(x)):\n",
    "        #Esta partecita de aquí lo que hace es hacer una una predicción del siguiente valor\n",
    "        #Teniendo en cuenta las soluciones anteriores, esto gracias a que se tiene la solución (de cagada) que te dejó el método de \n",
    "        # aproximación (RK4354354, por ejemplo). Esto es la parte Bashforth\n",
    "        \n",
    "        y[i] = y[i-1] + 0.5*h*(3*f(x[i-1],y[i-1])-f(x[i-2],y[i-2]))\n",
    "        yc[i] = y[i]\n",
    "        \n",
    "        \"\"\"\n",
    "        Lo que sigue es la parte Moulton, que se trata de la corrección de la predicción\n",
    "        que hizo el algoritmo Bashforth para la solución (de mierda) que te entregó RK. Hay de varios órdenes (en este caso 2) en Wiki están los demás-\n",
    "        \"\"\"\n",
    "        \n",
    "        yc[i] = yc[i-1] + h*( 5*f(x[i],y[i]) + 8*f(x[i-1],y[i-1]) - f(x[i-2],y[i-2]) )/12\n",
    "        \n",
    "        return y,yc # Te devuelve la predicción y la corrección (respectivamente)\n",
    "        "
   ]
  },
  {
   "cell_type": "code",
   "execution_count": null,
   "id": "fe420c93",
   "metadata": {},
   "outputs": [],
   "source": [
    "\"\"\"\n",
    "Bueno voy a leer lo del paso adaptativo. 4:41 a.m.\n",
    "\"\"\""
   ]
  }
 ],
 "metadata": {
  "kernelspec": {
   "display_name": "Python 3 (ipykernel)",
   "language": "python",
   "name": "python3"
  },
  "language_info": {
   "codemirror_mode": {
    "name": "ipython",
    "version": 3
   },
   "file_extension": ".py",
   "mimetype": "text/x-python",
   "name": "python",
   "nbconvert_exporter": "python",
   "pygments_lexer": "ipython3",
   "version": "3.9.13"
  }
 },
 "nbformat": 4,
 "nbformat_minor": 5
}
