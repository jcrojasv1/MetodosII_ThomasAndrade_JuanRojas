{
 "cells": [
  {
   "cell_type": "code",
   "execution_count": 13,
   "id": "6b6bf964",
   "metadata": {},
   "outputs": [],
   "source": [
    "import numpy as np\n",
    "import matplotlib.pyplot as plt\n",
    "from scipy.integrate import odeint"
   ]
  },
  {
   "cell_type": "code",
   "execution_count": 14,
   "id": "11e77fc6",
   "metadata": {},
   "outputs": [],
   "source": [
    "def Runge_Kutta4(f,y_0,t):\n",
    "    \"\"\"\n",
    "    f es la función de dy/dt = f(y,t)\n",
    "    y_0 es una initial guess\n",
    "    t es el linspace de tiempo (o variable independiente, como querás)\n",
    "    \"\"\"\n",
    "    \n",
    "    h = t[1] - t[0]\n",
    "    y = np.zeros_like(t)\n",
    "    y[0] = y_0\n",
    "    \n",
    "    for i in range(1,len(t)):\n",
    "        k1 = h*f(y[i-1],t[i-1])\n",
    "        k2 = h*f(t[i-1]+h/2,y[i-1] +k1/2)\n",
    "        k3 = h* f(t[i-1]+h/2, y[i-1] + k2/2)\n",
    "        k4 = h* f(t[i-1]+h,y +k3)\n",
    "        \n",
    "        y[i] = y[i-1] + (k1+2*k2+2*k3+k4)/6\n",
    "    \n",
    "    return y"
   ]
  },
  {
   "cell_type": "code",
   "execution_count": 15,
   "id": "5dce49e1",
   "metadata": {},
   "outputs": [],
   "source": [
    "def Adams_Bashforth_Moulton(f,x,y_sol_proposed):\n",
    "    \"\"\"\n",
    "    Básicamente, lo que hace esta maricada es que coges la función de tu ecuación deferencial dy/dx = f(x,y) y, \n",
    "    luego de haberla resuelto con método de Runge-Kutta, se lo metes a esta función por medio de y_sol_proposed y\n",
    "    esta madre te lo corrige para que quede Gucci.\n",
    "    \"\"\"\n",
    "    \n",
    "    h = x[1] - x[0]\n",
    "    \n",
    "    y = y_sol_proposed.copy() #Una copia de la solución (de cagada) que te dejó RK\n",
    "    yc = y.copy() #Otra copia (la que vamos a modificar ;D)/corregir.\n",
    "    \n",
    "    for i in range(2,len(x)):\n",
    "        #Esta partecita de aquí lo que hace es hacer una una predicción del siguiente valor\n",
    "        #Teniendo en cuenta las soluciones anteriores, esto gracias a que se tiene la solución (de cagada) que te dejó el método de \n",
    "        # aproximación (RK4354354, por ejemplo). Esto es la parte Bashforth\n",
    "        \n",
    "        y[i] = y[i-1] + 0.5*h*(3*f(x[i-1],y[i-1])-f(x[i-2],y[i-2]))\n",
    "        yc[i] = y[i]\n",
    "        \n",
    "        \"\"\"\n",
    "        Lo que sigue es la parte Moulton, que se trata de la corrección de la predicción\n",
    "        que hizo el algoritmo Bashforth para la solución (de mierda) que te entregó RK. Hay de varios órdenes (en este caso 2) en Wiki están los demás-\n",
    "        \"\"\"\n",
    "        \n",
    "        yc[i] = yc[i-1] + h*( 5*f(x[i],y[i]) + 8*f(x[i-1],y[i-1]) - f(x[i-2],y[i-2]) )/12\n",
    "        \n",
    "        return y,yc # Te devuelve la predicción y la corrección (respectivamente)\n",
    "        "
   ]
  },
  {
   "cell_type": "code",
   "execution_count": 16,
   "id": "fe420c93",
   "metadata": {},
   "outputs": [
    {
     "data": {
      "text/plain": [
       "'\\nBueno voy a leer lo del paso adaptativo. 4:41 a.m.\\n'"
      ]
     },
     "execution_count": 16,
     "metadata": {},
     "output_type": "execute_result"
    }
   ],
   "source": [
    "\"\"\"\n",
    "Bueno voy a leer lo del paso adaptativo. 4:41 a.m.\n",
    "\"\"\""
   ]
  },
  {
   "cell_type": "code",
   "execution_count": 203,
   "id": "50f5b5fe",
   "metadata": {},
   "outputs": [],
   "source": [
    "\"\"\"\n",
    "Espero pegar la predicción, pero teniendo en cuenta que el profesor puso un RK45 en el tablero como spolier del parcial,\n",
    "me adelantaré un poquito y voy a implementar una versión de éste algoritmo que encontré en un paper de por ahí.\n",
    "\"\"\"\n",
    "\n",
    "tolerance = 1e-6\n",
    "\n",
    "def RK_Fehlberg(f, r, t, step):\n",
    "    \"\"\"\n",
    "    Acá está la estructura de las constantes del método Runge-Kutta-Fehlberg o RK45. No sé si es algún episodio epifánico \n",
    "    de la madrugada o el café pero... ¿Por qué en las clases se le hace un unpacking al array de las pendientes instantáneas\n",
    "    pudiendo colocar el array y ya...? \n",
    "    \"\"\"\n",
    "    R1 = r\n",
    "    K1 = step * f(R1, t)\n",
    "    \n",
    "    R2 = r + K1/4\n",
    "    K2 = step * f(R2, t + step/4)\n",
    "    \n",
    "    R3 = r + (3/32) * K1 + (9/32) * K2\n",
    "    K3 = step * f(R3, t + (3 * step)/8) \n",
    "    \n",
    "    R4 = r + (1932/2197) * K1 - (7200/2197) * K2 + (7296/2197) * K3\n",
    "    K4 = step * f(R4, t + (12 * step)/13)\n",
    "    \n",
    "    R5 = r + (439/216) * K1 - 8 * K2 + (3680/513) * K3 - (845/4104) * K4\n",
    "    K5 = step * f(R5, t + step)\n",
    "    \n",
    "    R6 = r - (8/27) * K1 + 2 * K2 - (3544/2565) * K3 + (1859/4104) * K4 - (11/40) * K5\n",
    "    K6 = step * f(R6, t + step/2)\n",
    "    \n",
    "    r_first = r + (25/216) * K1 + (1408/2565) * K3 + (2197/4104) * K4 - (1/5) * K5\n",
    "    r_second = r + (16/135) * K1 + (6656/12825) * K3 + (28561/56430) * K4 - (9/50) * K5 + (2/55) * K6\n",
    "    \n",
    "    R = np.linalg.norm(r_first - r_second)/step\n",
    "    delta = 0.84 * (tolerance/R)**(1/4)\n",
    "    \n",
    "    if R <= tolerance:\n",
    "        r = r_first\n",
    "        step = delta * step\n",
    "        passed = True\n",
    "    elif R > tolerance:\n",
    "        step = delta * step\n",
    "        passed = False\n",
    "    \n",
    "    return r, step, passed"
   ]
  },
  {
   "cell_type": "code",
   "execution_count": 204,
   "id": "9a7857e1",
   "metadata": {},
   "outputs": [],
   "source": [
    "def AdaptativeRK45(f, r0, t):\n",
    "    step = t[1] - t[0]\n",
    "    ti, tf = t[0], t[-1]\n",
    "    \n",
    "    r = r0\n",
    "    vectors = r\n",
    "    time = np.array([ti])\n",
    "    steps = np.array([step])\n",
    "    \n",
    "    while ti < tf:\n",
    "        r_, step_, passed = RK_Fehlberg(f, r, ti, step)\n",
    "        step = step_\n",
    "        \n",
    "        if passed == True:\n",
    "                vectors = np.vstack((vectors, r_))\n",
    "                r = r_\n",
    "                step = step_\n",
    "        \n",
    "        elif passed == False:\n",
    "            while passed == False:\n",
    "                rtry, steptry, passedtry = RK_Fehlberg(f, r, ti, step)\n",
    "                passed = passedtry\n",
    "                r_ = rtry\n",
    "                step_ = steptry\n",
    "            \n",
    "            if passed == True:\n",
    "                vectors = np.vstack((vectors, r_))\n",
    "                r = r_\n",
    "                step = step_\n",
    "\n",
    "        ti = ti + step\n",
    "        \n",
    "        time = np.append(time, ti)\n",
    "        steps = np.append(steps, step)\n",
    "    \n",
    "    return time, vectors, steps"
   ]
  },
  {
   "cell_type": "code",
   "execution_count": 205,
   "id": "5b1116b8",
   "metadata": {},
   "outputs": [],
   "source": [
    "def System(r,t,mu=1.3):\n",
    "    \n",
    "    x,vx = r\n",
    "    \n",
    "    dxdt = vx\n",
    "    dvxdt = mu*(1-x**2)*vx - x\n",
    "    \n",
    "    return np.array([dxdt,dvxdt])\n",
    "\n",
    "t = np.linspace(0,20,100)\n",
    "r0 = np.array([0.5,0.])"
   ]
  },
  {
   "cell_type": "code",
   "execution_count": 206,
   "id": "fe5c9d0b",
   "metadata": {},
   "outputs": [],
   "source": [
    "t1,x1,h1 = AdaptativeRK45(System,r0,t)\n",
    "sol = odeint(System, r0, t, args=(1.3,))"
   ]
  },
  {
   "cell_type": "code",
   "execution_count": 207,
   "id": "fbc4328d",
   "metadata": {},
   "outputs": [
    {
     "data": {
      "text/plain": [
       "<matplotlib.legend.Legend at 0x1bc6765d3d0>"
      ]
     },
     "execution_count": 207,
     "metadata": {},
     "output_type": "execute_result"
    },
    {
     "data": {
      "image/png": "[encoded data removed]",
      "text/plain": [
       "<Figure size 640x480 with 1 Axes>"
      ]
     },
     "metadata": {},
     "output_type": "display_data"
    }
   ],
   "source": [
    "plt.scatter(sol[:,0],sol[:,1],marker='.', label = \"ODEINT\")\n",
    "plt.scatter(x1[:,0],x1[:,1],marker='.', label = \"RK45\")\n",
    "plt.legend()"
   ]
  }
 ],
 "metadata": {
  "kernelspec": {
   "display_name": "Python 3 (ipykernel)",
   "language": "python",
   "name": "python3"
  },
  "language_info": {
   "codemirror_mode": {
    "name": "ipython",
    "version": 3
   },
   "file_extension": ".py",
   "mimetype": "text/x-python",
   "name": "python",
   "nbconvert_exporter": "python",
   "pygments_lexer": "ipython3",
   "version": "3.11.5"
  }
 },
 "nbformat": 4,
 "nbformat_minor": 5
}
