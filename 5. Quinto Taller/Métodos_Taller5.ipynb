{
 "cells": [
  {
   "cell_type": "markdown",
   "id": "f018fc8a",
   "metadata": {},
   "source": [
    "> ## **Métodos Computacionales II - Taller #5**\n",
    "\n",
    "**Hecho por:** Thomas Andrade Hernández (202214695) & Juan Carlos Rojas V. (202214037)\n",
    "\n",
    "---"
   ]
  },
  {
   "cell_type": "code",
   "execution_count": 1,
   "id": "d49a82c0",
   "metadata": {},
   "outputs": [],
   "source": [
    "# Zona de librerías:\n",
    "%matplotlib notebook\n",
    "import numpy as np\n",
    "import matplotlib\n",
    "import matplotlib.pyplot as plt\n",
    "import matplotlib.animation as anim\n",
    "from tqdm import tqdm\n",
    "import random as rnd\n",
    "import math as math\n",
    "import scipy as sci"
   ]
  },
  {
   "cell_type": "markdown",
   "id": "710e49af",
   "metadata": {},
   "source": [
    "---\n",
    "\n",
    "**1. Ecuación Diferencial de Poisson:** Resolver la ecuación diferencial de Poisson:\n",
    "\n",
    "$$\\nabla^{2}u(x, y) = e^{-xy}$$\n",
    "\n",
    "en un dominio cuadrado $(x, y) \\in [0, 20] \\times [0, 20]$ cm$^{2}$, con un paso espacial de $h = 0.1$ cm. El problema se encuentra sujeto a las condiciones de frontera:\n",
    "\n",
    "$$h_{1}(0, y) = 10 \\text{ V}$$\n",
    "\n",
    "$$h_{2}(20, y) = 0 \\text{ V}$$\n",
    "\n",
    "$$h_{3}(x, 0) = 0 \\text{ V}$$\n",
    "\n",
    "$$h_{4}(x, 20) = 0 \\text{ V}$$\n",
    "\n",
    "---"
   ]
  },
  {
   "cell_type": "code",
   "execution_count": null,
   "id": "8fc65b4f",
   "metadata": {},
   "outputs": [],
   "source": []
  },
  {
   "cell_type": "markdown",
   "id": "7642296d",
   "metadata": {},
   "source": [
    "---\n",
    "\n",
    "**2. Conducción de calor 2D:** Resolver la ecuación diferencial de conducción de calor $2D$ en el siguiente dominio rectangular $(x, y) \\in [0, 1] \\times [0, 1]$, $t \\geq 0$. $\\alpha = \\beta = 1$, la discretización es $\\Delta{x} = \\Delta{y} = 0.2$ y $\\Delta{t} = 0.1$. $T_{max} = 1$ s. La ecuación diferencial tiene las siguientes condiciones:\n",
    "\n",
    "(a) Condición inicial:\n",
    "\n",
    "$$u(0, x, y) = \\sin(\\pi(x + y))$$\n",
    "\n",
    "(b) Condiciones de frontera:\n",
    "\n",
    "$$u(0, y, t) = e^{-2\\pi^{2}t}\\sin(\\pi{y})$$\n",
    "\n",
    "$$u(x, 0, t) = e^{-2\\pi^{2}t}\\sin(\\pi{x})$$\n",
    "\n",
    "$$u(x, 1, t) = e^{-2\\pi^{2}t}\\sin(\\pi{(1 + x)})$$\n",
    "\n",
    "$$u(1, y, t) = e^{-2\\pi^{2}t}\\sin(\\pi{(1 + y)})$$\n",
    "\n",
    "---"
   ]
  },
  {
   "cell_type": "code",
   "execution_count": null,
   "id": "7b19856c",
   "metadata": {},
   "outputs": [],
   "source": []
  },
  {
   "cell_type": "markdown",
   "id": "5cb88094",
   "metadata": {},
   "source": [
    "---\n",
    "\n",
    "**3. Ecuación de Onda 2D, Coordenadas Cilíndricas:** Muestre que la ecuación que describe el método de solución de la ecuación de onda en dos dimensiones considerando coordenadas cilíndricas tiene la forma:\n",
    "\n",
    "$$u_{i, j}^{l + 1} = \\nu^{2} \\cdot \\left[u_{i + 1, j}^{l} - 2u_{i, j}^{l} + u_{i - 1, j}^{l} + \\frac{\\Delta\\rho}{\\rho[i]} \\cdot \\left(u_{i, j}^{l} - u_{i - 1, j}^{l}\\right) + \\left(\\frac{\\lambda}{\\rho[i]}\\right)^{2} \\cdot \\left(u_{i, j + 1}^{l} - 2u_{i, j}^{l} + u_{i, j - 1}^{l}\\right)\\right] + 2u_{i, j}^{l} - u_{i, j}^{l - 1}$$\n",
    "\n",
    "Dados\n",
    "\n",
    "$$\\lambda := \\frac{\\Delta\\rho}{\\Delta\\phi} \\quad \\text{ y } \\quad \\nu := \\frac{\\alpha\\Delta{t}}{\\Delta\\rho}$$\n",
    "\n",
    "---"
   ]
  },
  {
   "cell_type": "code",
   "execution_count": null,
   "id": "7853c13d",
   "metadata": {},
   "outputs": [],
   "source": []
  },
  {
   "cell_type": "code",
   "execution_count": null,
   "id": "8beea31f",
   "metadata": {},
   "outputs": [],
   "source": []
  },
  {
   "cell_type": "markdown",
   "id": "434a9925",
   "metadata": {},
   "source": [
    "---\n",
    "\n",
    "**5. Ecuación de Onda en 2D:** Resuelva la ecuación de onda en dos dimensiones:\n",
    "\n",
    "$$\\frac{\\partial^{2}u(x, y, t)}{\\partial{t}^{2}} = v^{2} \\cdot \\left(\\frac{\\partial^{2}u(x, y, t)}{\\partial{x}^{2}} + \\frac{\\partial^{2}u(x, y, t)}{\\partial{y}^{2}}\\right)$$\n",
    "\n",
    "donde $v = 2$ m$/$s, con $(x, y) \\in R := [0, 2] \\times [0, 2]$ m$^{2}$ y $t \\geq 0$; con la condición inicial:\n",
    "\n",
    "$$u(x, y, 0) = \\sin(\\pi{x})\\sin(\\pi{y})$$\n",
    "\n",
    "La velocidad de la onda en $t = 0$ es cer0. Notar que la condición de contorno establece que las fronteras no cambian en el tiempo.\n",
    "\n",
    "---"
   ]
  },
  {
   "cell_type": "code",
   "execution_count": null,
   "id": "d3871916",
   "metadata": {},
   "outputs": [],
   "source": []
  },
  {
   "cell_type": "code",
   "execution_count": null,
   "id": "a19dfbbb",
   "metadata": {},
   "outputs": [],
   "source": []
  }
 ],
 "metadata": {
  "kernelspec": {
   "display_name": "Python 3 (ipykernel)",
   "language": "python",
   "name": "python3"
  },
  "language_info": {
   "codemirror_mode": {
    "name": "ipython",
    "version": 3
   },
   "file_extension": ".py",
   "mimetype": "text/x-python",
   "name": "python",
   "nbconvert_exporter": "python",
   "pygments_lexer": "ipython3",
   "version": "3.11.5"
  }
 },
 "nbformat": 4,
 "nbformat_minor": 5
}
