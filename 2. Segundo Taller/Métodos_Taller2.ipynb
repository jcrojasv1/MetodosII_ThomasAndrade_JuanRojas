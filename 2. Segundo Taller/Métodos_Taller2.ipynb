{
 "cells": [
  {
   "cell_type": "markdown",
   "id": "f018fc8a",
   "metadata": {},
   "source": [
    "> ## **Métodos Computacionales II - Taller #2**\n",
    "\n",
    "**Hecho por:** Thomas Andrade Hernández (202214695) & Juan Carlos Rojas V. (202214037)\n",
    "\n",
    "---"
   ]
  },
  {
   "cell_type": "code",
   "execution_count": null,
   "id": "4134f34b",
   "metadata": {},
   "outputs": [],
   "source": [
    "# Zona de librerías:\n",
    "%matplotlib notebook\n",
    "import numpy as np\n",
    "import matplotlib\n",
    "import matplotlib.pyplot as plt\n",
    "import matplotlib.animation as anim\n",
    "from tqdm import tqdm\n",
    "import random as rnd\n",
    "import math as math\n",
    "import scipy as sci"
   ]
  },
  {
   "cell_type": "markdown",
   "id": "afc7cf49",
   "metadata": {},
   "source": [
    ">**Sección 2.9.2**\n",
    "\n",
    "---\n",
    "\n",
    "**1. Estabilidad I:** Usando el código de clase, estudie la estabilidad de los algoritmos Runge-Kutta de tercer y cuarto orden. Realice las gráficas y suposiciones que considere necesarias."
   ]
  },
  {
   "cell_type": "code",
   "execution_count": null,
   "id": "4087a7c5",
   "metadata": {},
   "outputs": [],
   "source": []
  },
  {
   "cell_type": "markdown",
   "id": "c6ffabe7",
   "metadata": {},
   "source": [
    "---\n",
    "\n",
    "**2. Estabilidad II:** Para el algoritmo de Verlet:\n",
    "\n",
    "**(a).** Muestre que el error del método está descrito por:\n",
    "\n",
    "$$\\epsilon_{n + 1} = (2 + h^{2}a_{n}') \\cdot \\epsilon_{n} + \\epsilon_{n - 1} = 0 \\qquad a_{n}' = \\frac{\\partial{a}}{\\partial{x}}.$$\n",
    "\n",
    "\n",
    "---\n",
    "\n",
    "**(b).** Para el caso de un oscilador armónico clásico muestre que:\n",
    "\n",
    "$$\\epsilon_{n + 1} = 2 \\cdot (1 - R) \\cdot \\epsilon_{n} + \\epsilon_{n - 1} = 0$$\n",
    "\n",
    "donde $2R = h^{2}\\omega^{2}$\n",
    "\n",
    "\n",
    "---\n",
    "\n",
    "**(c).** Usando la suposición de la función potencia $\\epsilon_{n} = \\epsilon_{0}\\lambda^{n}$, muestre que las raíces son:\n",
    "\n",
    "$$\\lambda_{\\pm} = 1 - R \\pm \\sqrt{R^{2} - 2R}$$\n",
    "\n",
    "\n",
    "---\n",
    "**(d).** El valor de la estabilidad se obtiene para $\\left|{\\lambda_\\pm}\\right| = 1$. Muestre que el paso de integración debe cumplir:\n",
    "\n",
    "$$h \\leq \\frac{2}{\\omega}$$\n",
    "\n",
    "\n",
    "---\n",
    "\n",
    "**(e).** Implemente una rutina sencilla del método de Verlet para el oscilador armónico y muestre en una animación el comportamiento en la región estable y en la región inestable. Use $x(0) = 1$, $\\dot{x}(0) = 1$ y $\\omega = \\pi$. Itere el tiempo suficiente para evidenciar el comportamiento de la estabilidad.\n",
    "\n"
   ]
  },
  {
   "cell_type": "code",
   "execution_count": null,
   "id": "c2f3e2be",
   "metadata": {},
   "outputs": [],
   "source": []
  },
  {
   "cell_type": "markdown",
   "id": "1de6084a",
   "metadata": {},
   "source": [
    "---\n",
    "\n",
    "**3.** Resolver analíticamente la ecuación diferencial de Riccati:\n",
    "\n",
    "$$x^{3}y' = x^{4}y^{2} - 2x^{2}y - 1$$\n",
    "\n",
    "Una solución particular esta dada por: $y_{1} = x^{-2}$. Encuentre numéricamente la solución usando alguno de los métodos vistos en clase con la condición inicial $y(\\sqrt{2}) = 0.$."
   ]
  },
  {
   "cell_type": "code",
   "execution_count": null,
   "id": "8443358e",
   "metadata": {},
   "outputs": [],
   "source": []
  },
  {
   "cell_type": "markdown",
   "id": "c7646fee",
   "metadata": {},
   "source": [
    "---\n",
    "\n",
    "**4.** Resolver analíticamente la ecuación diferencial no lineal:\n",
    "\n",
    "$$\\frac{du}{dt} = u^{q}, \\ t \\in \\left[0, 10\\right]$$\n",
    "\n",
    "La solución exacta es: $u(t) = e^{t}$ para $q = 1$ y $u(t) = \\left(t \\cdot (1 - q) + 1 \\right)^{\\frac{1}{1 - q}}$ para $q < 1$ y $t \\cdot (1 - q) + 1 > 0$.\n",
    "\n",
    "\n",
    "\n",
    "---\n",
    "\n",
    "**5.** Encontrar la solución numéricamente para algunos valores de $q = \\left[0., 0.2, 0.4, 0.7, 0.9, 1.\\right]$."
   ]
  },
  {
   "cell_type": "code",
   "execution_count": null,
   "id": "40ffdc3c",
   "metadata": {},
   "outputs": [],
   "source": []
  },
  {
   "cell_type": "markdown",
   "id": "047d0144",
   "metadata": {},
   "source": [
    "---\n",
    "\n",
    "**6. Precesión de la órbita de Mercurio:** [Contexto entero en las notas de clase]. Demuestre las expresiones de las siguientes ecuaciones:\n",
    "\n",
    "$$\\vec{r}(t + \\Delta t) = \\vec{r}(t) + \\vec{v}(t)\\Delta t + \\frac{1}{2}\\vec{a}(t)\\left(\\Delta t\\right)^{2},\\qquad \\vec{v}(t + \\Delta t) = \\vec{v}(t) + \\frac{\\Delta t}{2} \\left(\\vec{a}(t + \\Delta t)  + \\vec{a}(t) \\right)$$\n",
    "\n",
    "$$\\vec{r}(0) = \\left[a \\cdot (1 + e), \\ 0.\\right], \\qquad \\vec{v}(0) = \\left[0.,\\ \\sqrt{G \\cdot \\frac{1 - e}{a \\cdot (1 + e)}} \\right]$$"
   ]
  },
  {
   "cell_type": "markdown",
   "id": "7a6192f4",
   "metadata": {},
   "source": [
    "---\n",
    "\n",
    "Genere una simulación en la que use un paso temporal del mismo orden de $\\alpha \\approx \\Delta t$ para poder medir el efecto de la precesión. Genere al menos 10 órbitas alrededor del Sol guardando en un archivo de datos el tiempo en años terrestres que tarda mercurio en llegar al perihelio y el ángulo de llegada que debe ser cercano a $180^{\\circ}$. Usando el archivo de datos grafique 2 veces el ángulo de llegada vs 2 veces el tiempo en años terrestre que le toma en llegar de nuevo al perihelio."
   ]
  },
  {
   "cell_type": "code",
   "execution_count": null,
   "id": "e57c2497",
   "metadata": {},
   "outputs": [],
   "source": []
  }
 ],
 "metadata": {
  "kernelspec": {
   "display_name": "Python 3 (ipykernel)",
   "language": "python",
   "name": "python3"
  },
  "language_info": {
   "codemirror_mode": {
    "name": "ipython",
    "version": 3
   },
   "file_extension": ".py",
   "mimetype": "text/x-python",
   "name": "python",
   "nbconvert_exporter": "python",
   "pygments_lexer": "ipython3",
   "version": "3.11.5"
  }
 },
 "nbformat": 4,
 "nbformat_minor": 5
}
