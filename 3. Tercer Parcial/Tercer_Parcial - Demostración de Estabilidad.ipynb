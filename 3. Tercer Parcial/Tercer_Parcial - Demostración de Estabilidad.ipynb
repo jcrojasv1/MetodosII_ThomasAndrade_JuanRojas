{
 "cells": [
  {
   "cell_type": "markdown",
   "id": "26191560",
   "metadata": {},
   "source": [
    "> ## **Métodos Computacionales II - Tercer Parcial**\n",
    "\n",
    "**Hecho por:** Thomas Andrade Hernández (202214695) & Juan Carlos Rojas V. (202214037)\n",
    "\n",
    "---"
   ]
  },
  {
   "cell_type": "markdown",
   "id": "b0cba6d4",
   "metadata": {},
   "source": [
    "**(1).** Muestre que, para la ecuación de onda unidimensional, el valor del factor $\\alpha$ debe de $|\\alpha| < 1$."
   ]
  },
  {
   "cell_type": "markdown",
   "id": "9dab7c0a",
   "metadata": {},
   "source": [
    "Considerese la ecuación de onda unidimensional y su respectiva discretización:\n",
    "\n",
    "$$\\frac{\\partial^{2}f}{\\partial t^{2}} = \\alpha^{2} \\cdot \\frac{\\partial^{2}f}{\\partial x^{2}} \\quad \\text{ y } \\quad \\frac{f^{l + 1}_{i} - 2f^{l}_{i} + f^{l - 1}_{i}}{2 \\cdot (\\Delta{t})^{2}} = v^{2} \\cdot \\frac{f^{l}_{i + 1} - 2f^{l}_{i} + f^{l}_{i - 1}}{2 \\cdot (\\Delta{x})^{2}}$$\n",
    "\n",
    "Despejando para el término $f^{l + 1}_{i}$:\n",
    "\n",
    "$$f^{l + 1}_{i} = \\alpha^{2}(f^{l}_{i + 1} - 2f^{l}_{i} + f^{l}_{i - 1}) + 2f^{l}_{i} - f^{l - 1}_{i} \\quad \\text{ con } \\quad \\alpha^{2} = \\frac{(v\\Delta{t})^{2}}{(\\Delta{x})^{2}}$$\n",
    "\n",
    "Ahora bien, para analizar la estabilidad de este algoritmo resulta conveniente notar que, al momento de realizar la discretización, la expresión $f^{l}_{i}$ será la respuesta \"real\" de la ecuación diferencial, misma que puede descomponerse en dos térmminos tales que $u^{l}_{i} + \\varepsilon^{l}_{i} = f^{l}_{i}$, donde $u^{l}_{i}$ representa la solución computacional y $\\varepsilon^{l}_{i}$ el error asociado a dicha computación. Esta relación entre $u_{i}^{l}$ y $\\varepsilon_{i}^{l}$ permite afirmar que el comportamiento de crecimiento de $f_{i}^{l}$ será idéntico para estos dos parámetros, permitiendo estudiar por separado el error: \n",
    "\n",
    "$$\\varepsilon^{l + 1}_{i} = \\alpha^{2}(\\varepsilon^{l}_{i + 1} - 2\\varepsilon^{l}_{i} + \\varepsilon^{l}_{i - 1}) + 2\\varepsilon^{l}_{i} - \\varepsilon^{l - 1}_{i}$$\n",
    "\n",
    "Podemos entender este término de error como una función que varía de la forma $\\varepsilon^{l}_{i} = e^{-\\omega{(l\\cdot\\Delta{t})}}e^{jk(i\\cdot\\Delta{x})} = \\gamma^{l}e^{jk(i\\cdot\\Delta{x})}$, con $\\gamma = e^{-\\omega\\Delta{t}}$ representando la magnitud del error ($\\omega, \\Delta{t} > 0$), la cual en casos extremos puede llegar a ser muy alta (de ahí la exponencial real). Esta definición permite:\n",
    "\n",
    "$$\\gamma^{l + 1}e^{jk(i\\cdot\\Delta{x})} = \\alpha^{2}(\\gamma^{l}e^{jk((i + 1)\\cdot\\Delta{x})} - 2\\gamma^{l}e^{jk(i\\cdot\\Delta{x})} + \\gamma^{l}e^{jk((i - 1)\\cdot\\Delta{x})}) + 2\\gamma^{l}e^{jk(i\\cdot\\Delta{x})} - \\gamma^{l - 1}e^{jk(i\\cdot\\Delta{x})}$$\n",
    "\n",
    "$$\\gamma \\cdot \\gamma^{l}e^{jk(i\\cdot\\Delta{x})} = \\alpha^{2}(e^{jk\\cdot\\Delta{x}} - 2 + e^{-jk\\cdot\\Delta{x}}) \\cdot \\gamma^{l}e^{jk(i\\cdot\\Delta{x})} + 2\\cdot\\gamma^{l}e^{jk(i\\cdot\\Delta{x})} - \\gamma^{-1}\\gamma^{l}e^{jk(i\\cdot\\Delta{x})}$$\n",
    "\n",
    "$$\\gamma = -4\\alpha^{2}\\sin^{2}\\left(\\frac{k\\Delta{x}}{2}\\right) + 2 - \\gamma^{-1}$$\n",
    "\n",
    "Sabemos por la definición de $\\gamma$, la magnitud del error, que esta nunca será cero, por lo que multiplicando y estableciendo el polinomio se obtiene:\n",
    "\n",
    "$$\\gamma^{2} + \\left[4\\alpha^{2}\\sin^{2}\\left(\\frac{k\\Delta{x}}{2}\\right) - 2\\right]\\gamma + 1= 0$$\n",
    "\n",
    "Dado que para la convergencia se necesita $|\\lambda| \\leq 1$, es decir, que el error decrece, las raíces deben ser complejas. La explicación de esto se obtiene en que el producto de las raíces del polinomio $ax^{2} + bx + c = 0$ resultan en el cociente $a/c$, que en este caso es $1$. Dado que la única forma de que $\\gamma_{1}\\cdot \\gamma_{2} = 1$ es que que $\\gamma_{1} = \\frac{1}{\\gamma_{2}}$ o que $\\gamma_{1} = \\gamma_{2} = 1$, la única que preserva ello es la segunda opción, posible solo cuando el discriminante es menor que cero:\n",
    "\n",
    "$$\\left[4\\alpha^{2}\\sin^{2}\\left(\\frac{k\\Delta{x}}{2}\\right) - 2\\right]^{2} - 4 < 0 \\quad \\Rightarrow \\quad \\sqrt{\\left[4\\alpha^{2}\\sin^{2}\\left(\\frac{k\\Delta{x}}{2}\\right) - 2\\right]^{2}} < \\sqrt{4} $$\n",
    "\n",
    "$$4\\alpha^{2}\\sin^{2}\\left(\\frac{k\\Delta{x}}{2}\\right) - 2 < 2$$\n",
    "\n",
    "$$\\alpha^{2}\\sin^{2}\\left(\\frac{k\\Delta{x}}{2}\\right) < 1$$\n",
    "\n",
    "El seno es, a lo sumo, igual a $1$, por lo tanto:\n",
    "\n",
    "$$\\alpha^{2} < 1 \\quad \\Rightarrow \\quad |\\alpha| < 1$$\n",
    "\n",
    "Mostrando así que la estabilidad se alcanza para valores de $\\alpha$ menores a la unidad en magnitud."
   ]
  }
 ],
 "metadata": {
  "kernelspec": {
   "display_name": "Python 3 (ipykernel)",
   "language": "python",
   "name": "python3"
  },
  "language_info": {
   "codemirror_mode": {
    "name": "ipython",
    "version": 3
   },
   "file_extension": ".py",
   "mimetype": "text/x-python",
   "name": "python",
   "nbconvert_exporter": "python",
   "pygments_lexer": "ipython3",
   "version": "3.11.5"
  }
 },
 "nbformat": 4,
 "nbformat_minor": 5
}
