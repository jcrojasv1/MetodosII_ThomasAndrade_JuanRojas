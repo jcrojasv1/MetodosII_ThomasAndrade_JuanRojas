{
 "cells": [
  {
   "cell_type": "markdown",
   "id": "f018fc8a",
   "metadata": {},
   "source": [
    "> ## **Métodos Computacionales II - Taller #3**\n",
    "\n",
    "**Hecho por:** Thomas Andrade Hernández (202214695) & Juan Carlos Rojas V. (202214037)\n",
    "\n",
    "---"
   ]
  },
  {
   "cell_type": "code",
   "execution_count": null,
   "id": "08818c2f",
   "metadata": {},
   "outputs": [],
   "source": [
    "# Zona de librerías:\n",
    "%matplotlib notebook\n",
    "import numpy as np\n",
    "import matplotlib\n",
    "import matplotlib.pyplot as plt\n",
    "import matplotlib.animation as anim\n",
    "from tqdm import tqdm\n",
    "import random as rnd\n",
    "import math as math\n",
    "import scipy as sci"
   ]
  },
  {
   "cell_type": "markdown",
   "id": "1b049848",
   "metadata": {},
   "source": [
    ">**Sección 2.9.3**\n",
    "\n",
    "---\n",
    "\n",
    "**1.** Sea el sistema autónomo definido por:\n",
    "\n",
    "$$\\dot{q} = f(q, p)$$\n",
    "\n",
    "$$\\dot{p} = g(q, p)$$\n",
    "\n",
    "Los puntos del espacio de fase donde el flujo es estacionario se denominan puntos fijos tal que: $f(q_{0}, p_{0}) = 0$. Muestre que la estabilidad de los estados mecánicos definidos por esos puntos conduce a la siguiente ecuación matricial:\n",
    "\n",
    "$$\\frac{d\\mathbf{E}}{dt} = \\mathbf{ME},$$\n",
    "\n",
    "donde $\\mathbf{M}$ se denomina matriz de estabilidad:\n",
    "\n",
    "$$\\begin{pmatrix}\n",
    "\\dfrac{\\partial f(q_{0}, p_{0})}{\\partial q} & \\dfrac{\\partial f(q_{0}, p_{0})}{\\partial p} \\\\\n",
    "\\dfrac{\\partial g(q_{0}, p_{0})}{\\partial q} & \\dfrac{\\partial g(q_{0}, p_{0})}{\\partial p}\n",
    "\\end{pmatrix}$$\n",
    "\n",
    "Los auto-vectores constituyen una base local del espacio de fases. Note que si los valores propios son imaginarios puros, la perturbación permanece acotada oscilando alrededor de los puntos fijos. De lo contrario, si los valores propios son reales, las soluciones crecerán o decrecerán con el tiempo.\n",
    "\n",
    "---\n",
    "\n",
    "**(a).** Solucione numéricamente el sistema de ecuaciones."
   ]
  },
  {
   "cell_type": "code",
   "execution_count": null,
   "id": "cabb09ce",
   "metadata": {},
   "outputs": [],
   "source": []
  },
  {
   "cell_type": "markdown",
   "id": "d53f1154",
   "metadata": {},
   "source": [
    "---\n",
    "\n",
    "**(b).** Encuentre la matriz de estabilidad del sistema autónomo lineal:\n",
    "\n",
    "$$x' = 2x - y$$\n",
    "\n",
    "$$y' = x + 2y$$"
   ]
  },
  {
   "cell_type": "code",
   "execution_count": null,
   "id": "8f7362e3",
   "metadata": {},
   "outputs": [],
   "source": []
  },
  {
   "cell_type": "markdown",
   "id": "2719279b",
   "metadata": {},
   "source": [
    "---\n",
    "\n",
    "**(c).** Encuentre numéricamente los valores y vectores propios."
   ]
  },
  {
   "cell_type": "code",
   "execution_count": null,
   "id": "bda67db9",
   "metadata": {},
   "outputs": [],
   "source": []
  },
  {
   "cell_type": "markdown",
   "id": "b557b3a7",
   "metadata": {},
   "source": [
    "---\n",
    "\n",
    "**(d).** Dibuje la trayectoria sobre el espacio de fase. ¿Cuál es el punto crítico?"
   ]
  },
  {
   "cell_type": "code",
   "execution_count": null,
   "id": "61606721",
   "metadata": {},
   "outputs": [],
   "source": []
  },
  {
   "cell_type": "markdown",
   "id": "b419c659",
   "metadata": {},
   "source": [
    "---\n",
    "\n",
    "**2.** Construir la animación de esfera dura para el caso 3D. Simule $N = 50$ partículas libres de radio $R = 0.1$ metros contenidas en un volumen de $V = 10 \\times 10 \\times 10$; al menos $20$ segundos. Use un método adecuado para integrar las ecuaciones. Para que se vea fluido, debe reducir el tamaño de la simulación en un factor de $50$.\n"
   ]
  },
  {
   "cell_type": "code",
   "execution_count": null,
   "id": "a9553cfd",
   "metadata": {},
   "outputs": [],
   "source": []
  },
  {
   "cell_type": "markdown",
   "id": "afe339b6",
   "metadata": {},
   "source": [
    "---\n",
    "\n",
    "**3. Symmetric spinning top:** [Contexto entero en las notas de la clase.]\n",
    "\n",
    "---\n",
    "\n",
    "**(a).** Muestre con todo detalle que:\n",
    "\n",
    "$$I_{0} = \\frac{1}{4}mr^{2} + md^{2}.$$\n",
    "\n",
    "---\n",
    "\n",
    "**(b).** Calcule el momento de incercia del disco:\n",
    "\n",
    "$$I_{z} = \\frac{1}{2}mr^{2}$$\n",
    "\n",
    "---\n",
    "\n",
    "**(c).** Usando las ecuaciones de Euler-Lagrange muestre que las ecuaciones de movimiento están dadas por:\n",
    "\n",
    "$$\\frac{\\partial L}{\\partial \\dot{\\varphi}} = \\dot{\\varphi} \\cdot \\left(I_{0}\\sin^{2}\\theta + I_{z}\\cos^{2}\\theta\\right) + I_{z}\\dot{\\psi}\\cos\\theta = p_{\\varphi}$$\n",
    "\n",
    "$$\\frac{\\partial L}{\\partial \\dot{\\psi}} = I_{z}\\left(\\dot{\\psi} + \\dot{\\varphi}\\cos\\theta\\right) = p_{\\psi}$$\n",
    "\n",
    "$$I_{\\theta}\\ddot{\\theta} = \\dot{\\psi}^{2}\\sin\\theta\\cos\\theta(I_{\\theta} - I_{z}) - \\dot{\\varphi}\\dot{\\psi}I_{z}\\sin\\theta + mgd\\sin\\theta.$$\n",
    "\n",
    "donde $p_{\\varphi}$ y $p_{\\psi}$ son los momentos canónicos conjugados de las variables $\\varphi$ y $\\psi$ (note que además se conservan).\n",
    "\n",
    "---\n",
    "\n",
    "**(d). OPCIONAL:** Encuentre las ecuaciones de movimiento usando las ecuaciones de Euler.\n",
    "\n",
    "---\n",
    "\n",
    "**(e).** Usando los integradores de $\\verb|Scipy|$, integre el sistema de ecuaciones diferenciales con el siguiente orden:\n",
    "\n",
    "$\\mathbf{y} = \\left[\\varphi, \\psi, \\theta, \\dot{\\theta}\\right]$ con la condición inicial: $\\mathbf{y_{0}} = \\left[0, 0, \\pi/4, 0\\right]$. El intervalo de integración es $t \\in \\left[0, 8\\right]$ s. Use los siguientes parámetros del sistema: $m = 0.1$ kg, $r = 0.1$ m, $d = 0.3$ m, $g = 9.81$ m$/$s$^{2}$, $\\dot{\\psi} = 400$ rad$/$s. Adicionalmente, para integrar la ecuación debe encontrar los momentos canónicos: $p_{\\varphi} = I_{z}\\dot{\\psi}\\cos\\theta_{0}$, $p_{\\psi} = I_{z}\\dot{\\psi}$."
   ]
  },
  {
   "cell_type": "code",
   "execution_count": null,
   "id": "907b6395",
   "metadata": {},
   "outputs": [],
   "source": []
  },
  {
   "cell_type": "markdown",
   "id": "06ccc235",
   "metadata": {},
   "source": [
    "---\n",
    "\n",
    "**(f).** Anime la solución para mostrar el proceso de precesión y nutación en este sistema.\n"
   ]
  },
  {
   "cell_type": "code",
   "execution_count": null,
   "id": "95b0e54e",
   "metadata": {},
   "outputs": [],
   "source": []
  },
  {
   "cell_type": "markdown",
   "id": "aa692540",
   "metadata": {},
   "source": [
    "---\n",
    "**(g).** ¿Cuál es la velocidad de precesión del sistema?"
   ]
  },
  {
   "cell_type": "code",
   "execution_count": null,
   "id": "95b1c1ef",
   "metadata": {},
   "outputs": [],
   "source": []
  },
  {
   "cell_type": "markdown",
   "id": "85f186ba",
   "metadata": {},
   "source": [
    "---\n",
    "\n",
    "**3. Symmetric spinning top:** La NASA requiere dos estudiantes del curso de métodoscomputacionales para realizar una pasantía en el departamento de objetos cercanos a la Tierra. Para elegir a los estudiantes se solicita una simulación sencilla del problema de tres cuerpos de una nave que pueda fotografiar el lado oculto de la Luna. Yo sugerí a mis estudiantes del curso de Métodos Computacionales II de la Universidad de los Andes como posibles candidatos; en quienes puedo depositar mi confianza.\n",
    "\n",
    "Para presentar sus propuestas sugiero la siguiente estrategia:\n",
    "\n",
    "**(a).** Vamos a suponer la Tierra inmóvil y la Luna siguiendo una órbita circular cuya frecuencia angular es $\\omega = 2.6617 \\times 10^{−6}\\text{s}^{−1}$. Esto evita integrar la ecuación de la Luna, la cual es en realidad elíptica.\n",
    "\n",
    "**(b).** La simulación será realizada en el S.I. de unidades que resulta más conveniente en el caso del sistema Tierra-Luna. El paso de integración deben ser segundos de vuelo $(h ∼ s)$, pero se debe graficar cada $1000$ pasos usando animation dado que el viaje a la Luna dura días terrestres.\n",
    "\n",
    "$$G = 6.67 \\times 10^{-11} \\ \\text{Nm}^{2}\\text{kg}^{-2}$$\n",
    "\n",
    "$$m_{T} = 5.9736 \\times 10^{24} \\ \\text{kg}$$\n",
    "\n",
    "$$r_{T} = 6.3781 \\times 10^{6} \\text{m}$$\n",
    "\n",
    "$$m_{L} = 0.07349 \\times 10^{24} \\ \\text{kg}$$\n",
    "\n",
    "$$r_{L} = 1.7374 \\times 10^{6} \\text{m}$$\n",
    "\n",
    "$$d = 3.844 \\times 10^{8} \\text{m}$$\n",
    "\n",
    "---\n",
    "\n",
    "**(c).** Muestre, usando la imágen en las notas, que la distancia Nave-Luna está dada por:\n",
    "\n",
    "$$r_{L}(r, \\phi, t) = \\sqrt{r(t)^{2} + d^{2} - 2r(t) \\cdot \\cos(\\phi - \\omega{t})}$$\n",
    "\n",
    "---\n",
    "\n",
    "**(d).** Usando esta distancia muestre que el Hamiltoniano de la nave está dado por:\n",
    "\n",
    "$$H = p_{r}\\dot{r} + p_{\\phi}\\phi - L = \\frac{p_{r}^{2}}{2m} + \\frac{p_{\\phi}^{2}}{2mr^{2}} - G\\frac{mm_{T}}{r} - G\\frac{mm_{L}}{r_{L}(r, \\phi, t)}$$\n",
    "\n",
    "donde L (el lagrangiano del sistema) es la energía cinética menos la energía potencial de la nave en coordenadas polares.\n",
    "\n",
    "**(e).** Muestre que las ecuaciones de Hamilton, que son las ecuaciones de movimiento están\n",
    "dadas por:\n",
    "\n",
    "$$\\dot{r} = \\frac{\\partial H}{\\partial p_{r}} = \\frac{p_{r}}{m}$$\n",
    "\n",
    "$$\\dot{\\phi} = \\frac{\\partial H}{\\partial p_{\\phi}} = \\frac{p_{\\phi}}{mr^{2}}$$\n",
    "\n",
    "$$\\dot{p}_{r} = \\frac{\\partial H}{\\partial r} = \\frac{p_{\\phi}^{2}}{mr^{3}} - G\\frac{mm_{L}}{r^{2}} -G\\frac{mm_{L}}{r_{L}(r, \\phi, t)^{3}} \\cdot \\left[r - d\\cos(\\phi - \\omega t)\\right]$$\n",
    "\n",
    "$$\\dot{p}_{\\phi} = \\frac{\\partial H}{\\partial \\phi} = -G\\frac{mm_{L}}{r_{L}(r, \\phi, t)^{3}} \\cdot rd \\sin(\\phi - \\omega t)$$\n",
    "\n",
    "Note que las dos primeras ecuaciones se refiere al momento lineal y angular de la nave y las segundas a la fuerza. Adicionalmente, este sistema de ecuaciones diferenciales no tiene solución analítica al ser no lineales. Este tipo de sistemas son de gran estudio numérico para establecer órbitas más reales.\n",
    "\n",
    "---\n",
    "\n",
    "**(f)**. Para reducir el error de redondeo se pueden definir nuevas variables normalizadas a la distancia lunar: $\\tilde{r} = r/d$, $\\phi$, $\\tilde{p}_{r} = p_{r}/md$ y $\\tilde{p}_\\phi = p_{\\phi}/md^{2}$. Muestre que el sistema se puede escribir como sigue:\n",
    "\n",
    "$$\\dot{\\tilde{r}} = \\dot{\\tilde{p}}_{r}$$\n",
    "\n",
    "$$\\dot{\\phi} = \\frac{\\dot{\\tilde{p}}_{\\phi}}{\\tilde{r}^{2}}$$\n",
    "\n",
    "$$\\dot{\\tilde{p}}_{r} = \\frac{\\dot{\\tilde{p}}_{\\phi}^{2}}{r^{3}} - \\Delta \\left[\\frac{1}{\\tilde{r}^{2}} + \\frac{\\mu}{\\tilde{r}'^{3}}\\left[r - d\\cos(\\phi - \\omega t)\\right]\\right]$$\n",
    "\n",
    "$$\\dot{\\tilde{p}}_{\\phi} = \\frac{\\Delta\\mu\\tilde{r}}{\\tilde{r}'^{3}} \\cdot \\sin(\\phi - \\omega t)$$\n",
    "\n",
    "donde $\\Delta = Gm_{T}/d^{3}$, $\\mu = m_{L}/m_{T}$ y $\\tilde{r}' = \\sqrt{1 + \\tilde{r}^{2} - 2\\tilde{r}\\cos(\\phi - \\omega t)}$.\n",
    "\n",
    "**(g).** Resolver el sistema de ecuaciones usando el algoritmo Runge-Kutta 4 con las siguientes condiciones iniciales: El radio inicial es el radio terrestre $r = r_{T}$ , $\\phi$ es la latitud sobre el planeta, la velocidad inicial está dada por: $v = [v\\cos(\\theta), v\\sin(\\theta)]$ no hay un método\n",
    "general para asignar $v$, $\\theta$, $\\phi$. La magnitud de la velocidad debe ser cercana la velocidad de escape de la Tierra para que la nave se pueda poner rumbo a la Luna. Ustedes deben ajustar los ángulos para lograr fotografiar el lado oculto de la Luna; lanzando su misión cuando la Luna se encuentre en el Perigeo orbital $(y = 0)$ en el eje $x$. Finalmente, para asignar los momentos canónicos iniciales muestre lo siguiente:\n",
    "\n",
    "$$\\tilde{p}_{r}^{0} = \\frac{p_{r}}{md} = \\frac{1}{d} \\frac{dr}{dt} = \\frac{1}{d} \\left(\\frac{d\\sqrt{x^{2} + y^{2}}}{dt}\\right) = \\frac{x\\dot{x} + y\\dot{y}}{rd} = \\tilde{v}_{0} \\cos(\\theta - \\phi)$$\n",
    "\n",
    "$$\\tilde{p}_{\\phi}^{0} = \\frac{p_{\\phi}}{md^{2}} = \\tilde{r}^{2} \\frac{d}{dt} \\arctan\\left(\\frac{y}{x}\\right) = \\frac{\\tilde{r}^{2}}{1 + y^{2}/x^{2}} \\frac{d}{dt}\\left(\\frac{y}{x}\\right) = \\frac{\\tilde{r}^{2}}{r^{2}} (\\dot{y}x - y\\dot{x}) = \\tilde{r_{0}}\\tilde{v_{0}}\\sin\\left(\\thright)$$\n",
    "\n",
    "\n",
    "---"
   ]
  },
  {
   "cell_type": "code",
   "execution_count": null,
   "id": "7f79cf81",
   "metadata": {},
   "outputs": [],
   "source": []
  },
  {
   "cell_type": "code",
   "execution_count": null,
   "id": "14083e00",
   "metadata": {},
   "outputs": [],
   "source": []
  },
  {
   "cell_type": "code",
   "execution_count": null,
   "id": "858f8740",
   "metadata": {},
   "outputs": [],
   "source": []
  },
  {
   "cell_type": "code",
   "execution_count": null,
   "id": "ed2943d6",
   "metadata": {},
   "outputs": [],
   "source": []
  },
  {
   "cell_type": "code",
   "execution_count": null,
   "id": "7a3e9495",
   "metadata": {},
   "outputs": [],
   "source": []
  },
  {
   "cell_type": "code",
   "execution_count": null,
   "id": "fc614e86",
   "metadata": {},
   "outputs": [],
   "source": []
  },
  {
   "cell_type": "code",
   "execution_count": null,
   "id": "e9b1789e",
   "metadata": {},
   "outputs": [],
   "source": []
  },
  {
   "cell_type": "code",
   "execution_count": null,
   "id": "41319572",
   "metadata": {},
   "outputs": [],
   "source": []
  }
 ],
 "metadata": {
  "kernelspec": {
   "display_name": "Python 3 (ipykernel)",
   "language": "python",
   "name": "python3"
  },
  "language_info": {
   "codemirror_mode": {
    "name": "ipython",
    "version": 3
   },
   "file_extension": ".py",
   "mimetype": "text/x-python",
   "name": "python",
   "nbconvert_exporter": "python",
   "pygments_lexer": "ipython3",
   "version": "3.11.5"
  }
 },
 "nbformat": 4,
 "nbformat_minor": 5
}
