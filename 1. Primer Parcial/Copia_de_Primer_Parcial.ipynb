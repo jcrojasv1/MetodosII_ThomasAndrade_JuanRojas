{
  "cells": [
    {
      "cell_type": "markdown",
      "id": "a59d0467",
      "metadata": {
        "id": "a59d0467"
      },
      "source": [
        "> ## **Métodos Computacionales II - Primer Parcial**\n",
        "\n",
        "**Hecho por:** Thomas Andrade Hernández (202214695) & Juan Carlos Rojas V. (202214037)\n",
        "\n",
        "---"
      ]
    },
    {
      "cell_type": "code",
      "execution_count": null,
      "id": "ad2404aa",
      "metadata": {
        "id": "ad2404aa"
      },
      "outputs": [],
      "source": [
        "# Zona de librerías:\n",
        "%matplotlib notebook\n",
        "import numpy as np\n",
        "import matplotlib\n",
        "import matplotlib.pyplot as plt\n",
        "import matplotlib.animation as anim\n",
        "from tqdm import tqdm\n",
        "import random as rnd\n",
        "import math as math\n",
        "import scipy as sci"
      ]
    },
    {
      "cell_type": "code",
      "source": [
        "def Runge_Kutta2(x,y):\n",
        "  pass\n"
      ],
      "metadata": {
        "id": "H2jbS-MrPAqL"
      },
      "id": "H2jbS-MrPAqL",
      "execution_count": null,
      "outputs": []
    }
  ],
  "metadata": {
    "kernelspec": {
      "display_name": "Python 3 (ipykernel)",
      "language": "python",
      "name": "python3"
    },
    "language_info": {
      "codemirror_mode": {
        "name": "ipython",
        "version": 3
      },
      "file_extension": ".py",
      "mimetype": "text/x-python",
      "name": "python",
      "nbconvert_exporter": "python",
      "pygments_lexer": "ipython3",
      "version": "3.11.5"
    },
    "colab": {
      "provenance": []
    }
  },
  "nbformat": 4,
  "nbformat_minor": 5
}